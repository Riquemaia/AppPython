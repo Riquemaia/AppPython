{
 "cells": [
  {
   "cell_type": "code",
   "execution_count": 17,
   "metadata": {},
   "outputs": [
    {
     "name": "stdout",
     "output_type": "stream",
     "text": [
      "D4\n",
      "5\n",
      "L26\n"
     ]
    }
   ],
   "source": [
    "# INCLUIR NA TABELA CALENDARIO UMA FLAG D (DAY) OU W (WEEK) E UMA FLAG UTIL (S OU N) DEPENDENDO DO CALENDARIO DO JOB SER DAY OU WEEK\n",
    "\n",
    "# Pega o dia util do mês que essa data representa\n",
    "import calendar\n",
    "from datetime import datetime, timedelta\n",
    "\n",
    "odate = '20240905'\n",
    "odate = datetime.strptime(odate, '%Y%m%d')\n",
    "hoje = odate.day\n",
    "\n",
    "def calcular_dia_util(data):\n",
    "    # Começa no primeiro dia do mês\n",
    "    primeiro_dia = datetime(data.year, data.month, 1)\n",
    "    \n",
    "    # Contador de dias úteis\n",
    "    dia_util = 0\n",
    "    \n",
    "    # Itera do primeiro dia do mês até o dia da data desejada\n",
    "    while primeiro_dia <= data:\n",
    "        # Se não for sábado (5) ou domingo (6), é um dia útil\n",
    "        if primeiro_dia.weekday() < 5:  # 0 a 4 são dias úteis\n",
    "            dia_util += 1\n",
    "        \n",
    "        # Avança para o próximo dia\n",
    "        primeiro_dia += timedelta(days=1)\n",
    "    \n",
    "    return dia_util\n",
    "\n",
    "# Exemplo de uso\n",
    "# data = datetime(2023, 9, 12)  # Alterar para a data desejada\n",
    "dia_mes_util = calcular_dia_util(odate)\n",
    "dia_mes_util = (\"D\"+str(dia_mes_util))\n",
    "print(dia_mes_util)\n",
    "\n",
    "print(hoje)\n",
    "\n",
    "# Obtendo o último dia do mês\n",
    "ultimo_dia = calendar.monthrange(odate.year, odate.month)[1]\n",
    "print('L'+str(ultimo_dia - odate.day+1))"
   ]
  }
 ],
 "metadata": {
  "kernelspec": {
   "display_name": "Python 3",
   "language": "python",
   "name": "python3"
  },
  "language_info": {
   "codemirror_mode": {
    "name": "ipython",
    "version": 3
   },
   "file_extension": ".py",
   "mimetype": "text/x-python",
   "name": "python",
   "nbconvert_exporter": "python",
   "pygments_lexer": "ipython3",
   "version": "3.9.1"
  }
 },
 "nbformat": 4,
 "nbformat_minor": 2
}
